{
 "cells": [
  {
   "cell_type": "code",
   "execution_count": null,
   "id": "12431936",
   "metadata": {},
   "outputs": [],
   "source": [
    "import pandas as pd"
   ]
  },
  {
   "cell_type": "code",
   "execution_count": null,
   "id": "e569546a",
   "metadata": {},
   "outputs": [],
   "source": [
    "# Read images and store them as Pandas DataFrames\n",
    "# Header = None as the CSV's do not have any headers\n",
    "img1 = pd.read_csv('img1.csv', header = None)\n",
    "img2 = pd.read_csv('img2.csv', header = None)\n",
    "img3 = pd.read_csv('img3.csv', header = None)\n",
    "img4 = pd.read_csv('img4.csv', header = None)\n",
    "img5 = pd.read_csv('img5.csv', header = None)\n"
   ]
  },
  {
   "cell_type": "code",
   "execution_count": null,
   "id": "8e1fa36f",
   "metadata": {},
   "outputs": [],
   "source": [
    "def pointCoord(img):\n",
    "    points_xy = {1 : (0,0), 2 : (0,0), 3 : (0,0), 3 : (0,0), }\n",
    "    sum = 0\n",
    "    # Iterate over rows;  dataframe.shape() returns width, x counts x coordinate.\n",
    "    for x, row in img.iterrows(): \n",
    "        # Iterate over columns.\n",
    "        for y, value in row.items():\n",
    "            # Check whether pixel at (x,y) is 1.\n",
    "            # NOTE: df.at--> access via values, df.iat--> via int index\n",
    "            if int(value) != 0:\n",
    "                # If positive, store in list.\n",
    "                # Add 1 because indexes start with 0\n",
    "                points_xy.append(int(x) + 1)\n",
    "                points_xy.append(int(y)+ 1)\n",
    "                sum += 1\n",
    "    print(points_xy)\n",
    "    print(sum, \"points found. \\n\")"
   ]
  },
  {
   "cell_type": "code",
   "execution_count": null,
   "id": "e446f793",
   "metadata": {},
   "outputs": [],
   "source": [
    "#print(img1)\n",
    "pointCoord(img1)\n",
    "pointCoord(img2)\n",
    "pointCoord(img3)\n",
    "pointCoord(img4)\n",
    "pointCoord(img5)"
   ]
  }
 ],
 "metadata": {
  "kernelspec": {
   "display_name": "satdock",
   "language": "python",
   "name": "satdock"
  },
  "language_info": {
   "codemirror_mode": {
    "name": "ipython",
    "version": 3
   },
   "file_extension": ".py",
   "mimetype": "text/x-python",
   "name": "python",
   "nbconvert_exporter": "python",
   "pygments_lexer": "ipython3",
   "version": "3.9.12"
  }
 },
 "nbformat": 4,
 "nbformat_minor": 5
}
