{
 "cells": [
  {
   "cell_type": "code",
   "execution_count": 1,
   "id": "12431936",
   "metadata": {},
   "outputs": [],
   "source": [
    "import pandas as pd"
   ]
  },
  {
   "cell_type": "code",
   "execution_count": 2,
   "id": "e569546a",
   "metadata": {},
   "outputs": [],
   "source": [
    "# Read images and store them as Pandas DataFrames\n",
    "# Header = None as the CSV's do not have any headers\n",
    "img1 = pd.read_csv('img1.csv', header = None)\n",
    "img2 = pd.read_csv('img2.csv', header = None)\n",
    "img3 = pd.read_csv('img3.csv', header = None)\n",
    "img4 = pd.read_csv('img4.csv', header = None)\n",
    "img5 = pd.read_csv('img5.csv', header = None)\n"
   ]
  },
  {
   "cell_type": "code",
   "execution_count": 4,
   "id": "8e1fa36f",
   "metadata": {},
   "outputs": [],
   "source": [
    "def pointCoord(img):\n",
    "    points_xy = {1 : (0,0), 2 : (0,0), 3 : (0,0), 3 : (0,0), 3 : (0,0), 3 : (0,0), 3 : (0,0)}\n",
    "    sum = 0\n",
    "    # Iterate over rows;  dataframe.shape() returns width, x counts x coordinate.\n",
    "    for x, row in img.iterrows(): \n",
    "        # Iterate over columns.\n",
    "        for y, value in row.items():\n",
    "            # Check whether pixel at (x,y) is 1.\n",
    "            # NOTE: df.at--> access via values, df.iat--> via int index\n",
    "            if int(value) != 0:\n",
    "                # If positive, store in list.\n",
    "                # Add 1 because indexes start with 0\n",
    "                points_xy[value] = (x, y)\n",
    "                sum += 1\n",
    "    print(points_xy)\n",
    "    print(sum, \"points found. \\n\")"
   ]
  },
  {
   "cell_type": "code",
   "execution_count": 5,
   "id": "e446f793",
   "metadata": {},
   "outputs": [
    {
     "name": "stdout",
     "output_type": "stream",
     "text": [
      "{1: (1876, 1199), 2: (1866, 1110), 3: (1795, 859), 5: (1786, 1120), 6: (1798, 1146), 4: (1924, 919), 7: (1966, 986)}\n",
      "7 points found. \n",
      "\n",
      "{1: (1518, 1199), 2: (1427, 1110), 3: (1378, 859), 5: (1362, 1120), 6: (1382, 1146), 4: (1527, 919), 7: (1673, 986)}\n",
      "7 points found. \n",
      "\n",
      "{1: (1021, 1199), 2: (900, 1110), 3: (859, 859), 5: (840, 1120), 6: (864, 1146), 4: (1015, 919), 7: (1200, 986)}\n",
      "7 points found. \n",
      "\n",
      "{1: (518, 1199), 2: (427, 1110), 3: (378, 859), 5: (362, 1120), 6: (382, 1146), 4: (527, 919), 7: (673, 986)}\n",
      "7 points found. \n",
      "\n",
      "{1: (144, 1199), 2: (134, 1110), 3: (63, 859), 5: (54, 1120), 6: (66, 1146), 4: (192, 919), 7: (234, 986)}\n",
      "7 points found. \n",
      "\n"
     ]
    }
   ],
   "source": [
    "#print(img1)\n",
    "pointCoord(img1)\n",
    "pointCoord(img2)\n",
    "pointCoord(img3)\n",
    "pointCoord(img4)\n",
    "pointCoord(img5)"
   ]
  }
 ],
 "metadata": {
  "kernelspec": {
   "display_name": "satdock",
   "language": "python",
   "name": "satdock"
  },
  "language_info": {
   "codemirror_mode": {
    "name": "ipython",
    "version": 3
   },
   "file_extension": ".py",
   "mimetype": "text/x-python",
   "name": "python",
   "nbconvert_exporter": "python",
   "pygments_lexer": "ipython3",
   "version": "3.9.12"
  }
 },
 "nbformat": 4,
 "nbformat_minor": 5
}
