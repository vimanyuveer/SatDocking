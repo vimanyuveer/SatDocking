{
 "cells": [
  {
   "cell_type": "code",
   "execution_count": 164,
   "id": "12431936",
   "metadata": {},
   "outputs": [],
   "source": [
    "import pandas as pd\n",
    "import matplotlib.pyplot as plt\n",
    "import numpy as np"
   ]
  },
  {
   "cell_type": "code",
   "execution_count": 165,
   "id": "e569546a",
   "metadata": {},
   "outputs": [],
   "source": [
    "# Read images and store them as Pandas DataFrames\n",
    "\n",
    "# Header = None as the CSV's do not have any headers\n",
    "img1 = pd.read_csv('img1.csv', header = None)\n",
    "img2 = pd.read_csv('img2.csv', header = None)\n",
    "img3 = pd.read_csv('img3.csv', header = None)\n",
    "img4 = pd.read_csv('img4.csv', header = None)\n",
    "img5 = pd.read_csv('img5.csv', header = None)\n"
   ]
  },
  {
   "cell_type": "code",
   "execution_count": 166,
   "id": "8e1fa36f",
   "metadata": {},
   "outputs": [],
   "source": [
    "def pointCoord(img):\n",
    "    points_xy = {1 : (0,0), 2 : (0,0), 3 : (0,0), 3 : (0,0), 3 : (0,0), 3 : (0,0), 3 : (0,0)}\n",
    "    sum = 0\n",
    "    # Iterate over rows;  dataframe.shape() returns width, x counts x coordinate.\n",
    "    for x, row in img.iterrows(): \n",
    "        # Iterate over columns.\n",
    "        for y, value in row.items():\n",
    "            # Check whether pixel at (x,y) is 1.\n",
    "            # NOTE: df.at--> access via values, df.iat--> via int index\n",
    "            if int(value) != 0:\n",
    "                # If positive, store in list.\n",
    "                # Add 1 because indexes start with 0\n",
    "                points_xy[value] = (x, y)\n",
    "                sum += 1\n",
    "    # Preview and return coordinates that were found.\n",
    "    output = list(points_xy.values())\n",
    "    print(output)\n",
    "    print(sum, \"points found.\\n\")\n",
    "    return(output)"
   ]
  },
  {
   "cell_type": "code",
   "execution_count": 167,
   "id": "e446f793",
   "metadata": {},
   "outputs": [
    {
     "name": "stdout",
     "output_type": "stream",
     "text": [
      "[(1876, 1199), (1866, 1110), (1795, 859), (1786, 1120), (1798, 1146), (1924, 919), (1966, 986)]\n",
      "7 points found.\n",
      "\n",
      "[(1518, 1199), (1427, 1110), (1378, 859), (1362, 1120), (1382, 1146), (1527, 919), (1673, 986)]\n",
      "7 points found.\n",
      "\n",
      "[(1021, 1199), (900, 1110), (859, 859), (840, 1120), (864, 1146), (1015, 919), (1200, 986)]\n",
      "7 points found.\n",
      "\n",
      "[(518, 1199), (427, 1110), (378, 859), (362, 1120), (382, 1146), (527, 919), (673, 986)]\n",
      "7 points found.\n",
      "\n",
      "[(144, 1199), (134, 1110), (63, 859), (54, 1120), (66, 1146), (192, 919), (234, 986)]\n",
      "7 points found.\n",
      "\n"
     ]
    }
   ],
   "source": [
    "# Calculating and storing the lists of coordinates into seperate variables.\n",
    "coord1 = pointCoord(img1)    # t = 0 s\n",
    "coord2 = pointCoord(img2)    # t = 10 s\n",
    "coord3 = pointCoord(img3)    # t = 20 s\n",
    "coord4 = pointCoord(img4)    # t = 30 s\n",
    "coord5 = pointCoord(img5)    # t = 40 s"
   ]
  },
  {
   "cell_type": "code",
   "execution_count": 168,
   "id": "85d8ec7c",
   "metadata": {},
   "outputs": [],
   "source": [
    "# Convert points (list of 2-tuples) to list of abscissae and ordinates.\n",
    "# This is implemented by unpacking the input list into two lists.\n",
    "\n",
    "def x_points(points):\n",
    "    x_list = []\n",
    "    for i, j in points:\n",
    "        x_list.append(int(i))\n",
    "    return x_list\n",
    "\n",
    "def y_points(points):\n",
    "    y_list = []\n",
    "    for i, j in points:\n",
    "        y_list.append(int(j))\n",
    "    return y_list"
   ]
  },
  {
   "cell_type": "code",
   "execution_count": 169,
   "id": "f8018fd8",
   "metadata": {},
   "outputs": [],
   "source": [
    "# Function to raise list to some power.\n",
    "def power(my_list, n):\n",
    "    return [ x**n for x in my_list ]\n",
    "\n",
    "# Function to multiply two lists.\n",
    "def listM(list1, list2):\n",
    "    return [list1[i] * list2[i] for i in range(0, len(list1))]"
   ]
  },
  {
   "cell_type": "code",
   "execution_count": 170,
   "id": "f7fa41bb",
   "metadata": {},
   "outputs": [],
   "source": [
    "# Best Fit analysis to infer conics --> ELLIPSE AND CIRCLE.\n",
    "\n",
    "# Function which takes in array of x and y values.\n",
    "def fit_ellipse(coord):\n",
    "    # Obtain arrays of respective coordinates\n",
    "    X, Y = x_points(coord), y_points(coord)\n",
    "\n",
    "    \"\"\"\n",
    "    Fit the coefficients a,b,c,d,e,f, representing an ellipse described by\n",
    "    the formula F(x,y) = ax^2 + bxy + cy^2 + dx + ey + f = 0 to the provided\n",
    "    arrays of data points x=[x1, x2, ..., xn] and y=[y1, y2, ..., yn].\n",
    "\n",
    "    Based on the algorithm of Halir and Flusser, \"Numerically stable direct\n",
    "    least squares fitting of ellipses'.\n",
    "    \"\"\"\n",
    "    \n",
    "    D1 = np.vstack([power(X, 2), listM(X, Y), power(Y, 2)]).T\n",
    "    D2 = np.vstack([X, Y, np.ones(len(X))]).T\n",
    "    # @ here does matrix multiplication.\n",
    "    S1 = D1.T @ D1\n",
    "    S2 = D1.T @ D2\n",
    "    S3 = D2.T @ D2\n",
    "    # numpy.linalg.inv() calculates inverse of a matrix.\n",
    "    T = -np.linalg.inv(S3) @ S2.T\n",
    "    M = S1 + S2 @ T\n",
    "    C = np.array(((0, 0, 2), (0, -1, 0), (2, 0, 0)), dtype=float)\n",
    "    M = np.linalg.inv(C) @ M\n",
    "    # numpy.linalg.eig() returns eignevalue vector and eigenvector array\n",
    "    eigval, eigvec = np.linalg.eig(M)\n",
    "    con = 4 * eigvec[0]* eigvec[2] - eigvec[1]**2\n",
    "    # numpy.nonzero)() gives indices of nonzero elements\n",
    "    ak = eigvec[:, np.nonzero(con > 0)[0]]\n",
    "    return np.concatenate((ak, T @ ak)).ravel()"
   ]
  },
  {
   "cell_type": "code",
   "execution_count": 171,
   "id": "47a42483",
   "metadata": {},
   "outputs": [],
   "source": [
    "def cart_to_pol(coeffs):\n",
    "\n",
    "    \"\"\"\n",
    "    Convert the cartesian conic coefficients, (a, b, c, d, e, f), to the\n",
    "    ellipse parameters, where F(x, y) = ax^2 + bxy + cy^2 + dx + ey + f = 0.\n",
    "    The returned parameters are x0, y0, ap, bp, e, phi, where (x0, y0) is the\n",
    "    ellipse centre; (ap, bp) are the semi-major and semi-minor axes,\n",
    "    respectively; e is the eccentricity; and phi is the rotation of the semi-\n",
    "    major axis from the x-axis.\n",
    "    \"\"\"\n",
    "\n",
    "    # We use the formulas from https://mathworld.wolfram.com/Ellipse.html\n",
    "    # which assumes a cartesian form ax^2 + 2bxy + cy^2 + 2dx + 2fy + g = 0.\n",
    "    # Therefore, b, d, and f are renamed and scaled appropriately.\n",
    "    \n",
    "    a = coeffs[0]\n",
    "    b = coeffs[1] / 2\n",
    "    c = coeffs[2]\n",
    "    d = coeffs[3] / 2\n",
    "    f = coeffs[4] / 2\n",
    "    g = coeffs[5]\n",
    "\n",
    "    den = b**2 - a*c\n",
    "    # Throw an error if it is not an ellipse\n",
    "    # This is because an ellips in a non-standard position has an equation in the same \n",
    "    # form of the parabola, but with the requisite b^2 - 4ac < 0\n",
    "    \n",
    "    if den > 0:\n",
    "        raise ValueError('coeffs do not represent an ellipse: b^2 - 4ac must'\n",
    "                         ' be negative!')\n",
    "\n",
    "    # The location of the ellipse centre.\n",
    "    x0, y0 = (c*d - b*f) / den, (a*f - b*d) / den\n",
    "\n",
    "    num = 2 * (a*f**2 + c*d**2 + g*b**2 - 2*b*d*f - a*c*g)\n",
    "    fac = np.sqrt((a - c)**2 + 4*b**2)\n",
    "    \n",
    "    # The semi-major and semi-minor axis lengths (these are not sorted).\n",
    "    ap = np.sqrt(num / den / (fac - a - c))\n",
    "    bp = np.sqrt(num / den / (-fac - a - c))\n",
    "\n",
    "    # Sort the semi-major and semi-minor axis lengths but keep track of\n",
    "    # the original relative magnitudes of width and height.\n",
    "    width_gt_height = True\n",
    "    if ap < bp:\n",
    "        width_gt_height = False\n",
    "        ap, bp = bp, ap\n",
    "\n",
    "    # The eccentricity.\n",
    "    r = (bp/ap)**2\n",
    "    if r > 1:\n",
    "        r = 1/r\n",
    "    e = np.sqrt(1 - r)\n",
    "\n",
    "    # The angle of anticlockwise rotation of the major-axis from x-axis.\n",
    "    if b == 0:\n",
    "        phi = 0 if a < c else np.pi/2\n",
    "    else:\n",
    "        phi = np.arctan((2.*b) / (a - c)) / 2\n",
    "        if a > c:\n",
    "            phi += np.pi/2\n",
    "    if not width_gt_height:\n",
    "        # Ensure that phi is the angle to rotate to the semi-major axis.\n",
    "        phi += np.pi/2\n",
    "    phi = phi % np.pi\n",
    "\n",
    "    return x0, y0, ap, bp, e, phi"
   ]
  },
  {
   "cell_type": "code",
   "execution_count": 172,
   "id": "f39a89bf",
   "metadata": {},
   "outputs": [],
   "source": [
    "def get_ellipse_pts(params, npts=100, tmin=0, tmax=2*np.pi):\n",
    "    \n",
    "    \"\"\"\n",
    "    Return npts (Non-parametric time scaling algorithm) points on the ellipse described by the params = x0, y0, ap,\n",
    "    bp, e, phi for values of the parametric variable t between tmin and tmax.\n",
    "    \"\"\"\n",
    "    \n",
    "    x0, y0, ap, bp, e, phi = params\n",
    "    \n",
    "    # A grid of the parametric variable, t.\n",
    "    t = np.linspace(tmin, tmax, npts)\n",
    "    \n",
    "    # Some more maths.\n",
    "    x = x0 + ap * np.cos(t) * np.cos(phi) - bp * np.sin(t) * np.sin(phi)\n",
    "    y = y0 + ap * np.cos(t) * np.sin(phi) + bp * np.sin(t) * np.cos(phi)\n",
    "    return x, y"
   ]
  },
  {
   "cell_type": "code",
   "execution_count": 173,
   "id": "fd4acc40",
   "metadata": {},
   "outputs": [
    {
     "name": "stdout",
     "output_type": "stream",
     "text": [
      "axes are 224.4249043285414 139.99350457192844\n"
     ]
    },
    {
     "data": {
      "image/png": "[encoded data removed]",
      "text/plain": [
       "<Figure size 432x288 with 1 Axes>"
      ]
     },
     "metadata": {
      "needs_background": "light"
     },
     "output_type": "display_data"
    },
    {
     "name": "stdout",
     "output_type": "stream",
     "text": [
      "axes are 224.4249043285414 139.99350457192844\n"
     ]
    }
   ],
   "source": [
    "# To run the algorithm on our data.\n",
    "\n",
    "# Store output of fitting in coeffs.\n",
    "coeffs = fit_ellipse(coord2)\n",
    "\n",
    "#print('Exact parameters:')\n",
    "#print('x0, y0, ap, bp, phi =', x0, y0, ap, bp, phi)\n",
    "#print('Fitted parameters:')\n",
    "#print('a, b, c, d, e, f =', coeffs)\n",
    "\n",
    "# ab, bp --> Semi-major and minor axes, e is eccentricity.\n",
    "x0, y0, ap, bp, e, phi = cart_to_pol(coeffs)\n",
    "\n",
    "#print('x0, y0, ap, bp, e, phi = ', x0, y0, ap, bp, e, phi)\n",
    "\n",
    "# Given points.\n",
    "plt.plot(x, y, 'x')\n",
    "\n",
    "# Print(x, y)\n",
    "\n",
    "#Get npts points, and plot.\n",
    "x, y = get_ellipse_pts((x0, y0, ap, bp, e, phi))\n",
    "plt.plot(x, y)\n",
    "plt.show()\n",
    "\n",
    "# Get Semi-major and minor axes.\n",
    "print(\"axes are\", ap, bp)"
   ]
  }
 ],
 "metadata": {
  "kernelspec": {
   "display_name": "satdock",
   "language": "python",
   "name": "satdock"
  },
  "language_info": {
   "codemirror_mode": {
    "name": "ipython",
    "version": 3
   },
   "file_extension": ".py",
   "mimetype": "text/x-python",
   "name": "python",
   "nbconvert_exporter": "python",
   "pygments_lexer": "ipython3",
   "version": "3.9.12"
  }
 },
 "nbformat": 4,
 "nbformat_minor": 5
}
