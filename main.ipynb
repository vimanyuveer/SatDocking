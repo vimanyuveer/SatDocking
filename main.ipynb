{
 "cells": [
  {
   "cell_type": "code",
   "execution_count": 66,
   "id": "12431936",
   "metadata": {},
   "outputs": [],
   "source": [
    "import pandas as pd"
   ]
  },
  {
   "cell_type": "code",
   "execution_count": 67,
   "id": "e569546a",
   "metadata": {},
   "outputs": [],
   "source": [
    "# Read images and store them as Pandas DataFrames\n",
    "# Header = None as the CSV's do not have any headers\n",
    "img1 = pd.read_csv('img1.csv', header = None)\n",
    "img2 = pd.read_csv('img2.csv', header = None)\n",
    "img3 = pd.read_csv('img3.csv', header = None)\n",
    "img4 = pd.read_csv('img4.csv', header = None)\n",
    "img5 = pd.read_csv('img5.csv', header = None)\n"
   ]
  },
  {
   "cell_type": "code",
   "execution_count": 68,
   "id": "8e1fa36f",
   "metadata": {},
   "outputs": [],
   "source": [
    "def pointCoord(img):\n",
    "    points_xy = []\n",
    "    sum = 0\n",
    "    # Iterate over rows;  dataframe.shape() returns width, x counts x coordinate.\n",
    "    for x, row in img.iterrows(): \n",
    "        # Iterate over columns.\n",
    "        for y, value in row.items():\n",
    "            # Check whether pixel at (x,y) is 1.\n",
    "            # NOTE: df.at--> access via values, df.iat--> via int index\n",
    "            if int(value) == 1:\n",
    "                # If positive, store in list.\n",
    "                # Add 1 because indexes start with 0\n",
    "                points_xy.append(int(x) + 1)\n",
    "                points_xy.append(int(y)+ 1)\n",
    "                sum += 1\n",
    "    print(points_xy)\n",
    "    print(sum, \"points found. \\n\")"
   ]
  },
  {
   "cell_type": "code",
   "execution_count": 71,
   "id": "e446f793",
   "metadata": {},
   "outputs": [
    {
     "name": "stdout",
     "output_type": "stream",
     "text": [
      "[1877, 1200]\n",
      "1 points found. \n",
      "\n",
      "[1519, 1200]\n",
      "1 points found. \n",
      "\n",
      "[1022, 1200]\n",
      "1 points found. \n",
      "\n",
      "[519, 1200]\n",
      "1 points found. \n",
      "\n",
      "[145, 1200]\n",
      "1 points found. \n",
      "\n"
     ]
    }
   ],
   "source": [
    "#print(img1)\n",
    "pointCoord(img1)\n",
    "pointCoord(img2)\n",
    "pointCoord(img3)\n",
    "pointCoord(img4)\n",
    "pointCoord(img5)"
   ]
  },
  {
   "cell_type": "code",
   "execution_count": 73,
   "id": "1574ed39",
   "metadata": {},
   "outputs": [
    {
     "name": "stdout",
     "output_type": "stream",
     "text": [
      "   0  1  2  3  4  5  6  7  8\n",
      "0  0  1  2  3  4  5  6  7  8\n",
      "1  0  0  0  1  0  0  1  0  0\n",
      "2  1  1  0  1  0  0  0  1  0\n",
      "3  0  0  0  0  0  0  1  0  0\n",
      "[1, 2, 2, 4, 2, 7, 3, 1, 3, 2, 3, 4, 3, 8, 4, 7]\n",
      "8 points found. \n",
      "\n"
     ]
    }
   ],
   "source": [
    "test1 = pd.read_csv(\"test1.csv\", header = None)\n",
    "print(test1)\n",
    "pointCoord(test1)"
   ]
  }
 ],
 "metadata": {
  "kernelspec": {
   "display_name": "satdock",
   "language": "python",
   "name": "satdock"
  },
  "language_info": {
   "codemirror_mode": {
    "name": "ipython",
    "version": 3
   },
   "file_extension": ".py",
   "mimetype": "text/x-python",
   "name": "python",
   "nbconvert_exporter": "python",
   "pygments_lexer": "ipython3",
   "version": "3.9.12"
  }
 },
 "nbformat": 4,
 "nbformat_minor": 5
}
